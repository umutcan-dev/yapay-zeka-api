{
  "cells": [
    {
      "cell_type": "markdown",
      "metadata": {
        "id": "view-in-github",
        "colab_type": "text"
      },
      "source": [
        "<a href=\"https://colab.research.google.com/github/umutcan-dev/yapay-zeka-api/blob/main/python_api_ipynb_umutcan_revize.ipynb\" target=\"_parent\"><img src=\"https://colab.research.google.com/assets/colab-badge.svg\" alt=\"Open In Colab\"/></a>"
      ]
    },
    {
      "cell_type": "code",
      "execution_count": null,
      "metadata": {
        "id": "z9zlMLfDLq2S"
      },
      "outputs": [],
      "source": [
        "!pip install flask_ngrok #sunucuda çalıştırılmayacak - sadcece colab!\n",
        "!pip install flask\n",
        "!pip install flask_restful\n",
        "#!pip install keras\n",
        "#!pip install tensorflow\n",
        "#!pip install pandas\n",
        "#!pip install numpy"
      ]
    },
    {
      "cell_type": "code",
      "execution_count": null,
      "metadata": {
        "colab": {
          "base_uri": "https://localhost:8080/"
        },
        "id": "EjgTpKPrL27d",
        "outputId": "877ada78-7680-4ed3-83a1-c4b9d908e1cf"
      },
      "outputs": [
        {
          "output_type": "stream",
          "name": "stdout",
          "text": [
            "Mounted at /content/drive\n"
          ]
        }
      ],
      "source": [
        "from flask import Flask, request\n",
        "from flask_restful import Api, Resource\n",
        "from flask_ngrok import run_with_ngrok\n",
        "import pandas as pd\n",
        "from PIL import Image\n",
        "import keras\n",
        "from keras import backend as K\n",
        "#from keras.models import Sequential\n",
        "from keras.layers.core import Dense, Flatten\n",
        "from keras.preprocessing.image import ImageDataGenerator \n",
        "from keras.utils import img_to_array\n",
        "from flask import jsonify\n",
        "import io\n",
        "import numpy as np\n",
        "import base64\n",
        "import tensorflow as tf\n",
        "from tensorflow.keras import applications\n",
        "from keras import applications\n",
        "from tensorflow.keras.models import Sequential\n",
        "from google.colab import drive #sadece colab\n",
        "drive.mount('/content/drive') #sadece colab"
      ]
    },
    {
      "cell_type": "code",
      "execution_count": null,
      "metadata": {
        "colab": {
          "base_uri": "https://localhost:8080/"
        },
        "id": "5O3I7xIZBYB5",
        "outputId": "63c9aa1b-2513-41f3-e79d-62dd364ad483"
      },
      "outputs": [
        {
          "output_type": "stream",
          "name": "stdout",
          "text": [
            "Looking in indexes: https://pypi.org/simple, https://us-python.pkg.dev/colab-wheels/public/simple/\n",
            "Requirement already satisfied: gdown in /usr/local/lib/python3.8/dist-packages (4.4.0)\n",
            "Collecting gdown\n",
            "  Downloading gdown-4.6.0-py3-none-any.whl (14 kB)\n",
            "Requirement already satisfied: beautifulsoup4 in /usr/local/lib/python3.8/dist-packages (from gdown) (4.6.3)\n",
            "Requirement already satisfied: six in /usr/local/lib/python3.8/dist-packages (from gdown) (1.15.0)\n",
            "Requirement already satisfied: filelock in /usr/local/lib/python3.8/dist-packages (from gdown) (3.8.2)\n",
            "Requirement already satisfied: requests[socks] in /usr/local/lib/python3.8/dist-packages (from gdown) (2.25.1)\n",
            "Requirement already satisfied: tqdm in /usr/local/lib/python3.8/dist-packages (from gdown) (4.64.1)\n",
            "Requirement already satisfied: certifi>=2017.4.17 in /usr/local/lib/python3.8/dist-packages (from requests[socks]->gdown) (2022.12.7)\n",
            "Requirement already satisfied: urllib3<1.27,>=1.21.1 in /usr/local/lib/python3.8/dist-packages (from requests[socks]->gdown) (1.24.3)\n",
            "Requirement already satisfied: idna<3,>=2.5 in /usr/local/lib/python3.8/dist-packages (from requests[socks]->gdown) (2.10)\n",
            "Requirement already satisfied: chardet<5,>=3.0.2 in /usr/local/lib/python3.8/dist-packages (from requests[socks]->gdown) (4.0.0)\n",
            "Requirement already satisfied: PySocks!=1.5.7,>=1.5.6 in /usr/local/lib/python3.8/dist-packages (from requests[socks]->gdown) (1.7.1)\n",
            "Installing collected packages: gdown\n",
            "  Attempting uninstall: gdown\n",
            "    Found existing installation: gdown 4.4.0\n",
            "    Uninstalling gdown-4.4.0:\n",
            "      Successfully uninstalled gdown-4.4.0\n",
            "Successfully installed gdown-4.6.0\n",
            "/usr/local/lib/python3.8/dist-packages/gdown/cli.py:121: FutureWarning: Option `--id` was deprecated in version 4.3.1 and will be removed in 5.0. You don't need to pass it anymore to use a file ID.\n",
            "  warnings.warn(\n",
            "Downloading...\n",
            "From: https://drive.google.com/uc?id=1qZ5oy3NwjBqozIcc7JItdFjCqB25FEaM\n",
            "To: /content/model_weights.h5\n",
            "100% 554M/554M [00:07<00:00, 74.3MB/s]\n",
            "/usr/local/lib/python3.8/dist-packages/gdown/cli.py:121: FutureWarning: Option `--id` was deprecated in version 4.3.1 and will be removed in 5.0. You don't need to pass it anymore to use a file ID.\n",
            "  warnings.warn(\n",
            "Downloading...\n",
            "From: https://drive.google.com/uc?id=1YZNf6fFFoHuYEe-wf-93dOhe2kfuEPJE\n",
            "To: /content/csvornek.csv\n",
            "100% 29.0/29.0 [00:00<00:00, 45.5kB/s]\n"
          ]
        }
      ],
      "source": [
        "!pip install --upgrade --no-cache-dir gdown\n",
        "\n",
        "!gdown --id '1qZ5oy3NwjBqozIcc7JItdFjCqB25FEaM' #h5 download\n",
        "!gdown --id '1YZNf6fFFoHuYEe-wf-93dOhe2kfuEPJE' #.csv file download"
      ]
    },
    {
      "cell_type": "code",
      "execution_count": null,
      "metadata": {
        "id": "lueDlZaqL3AH"
      },
      "outputs": [],
      "source": [
        "app = Flask(__name__)\n",
        "api = Api(app)"
      ]
    },
    {
      "cell_type": "code",
      "execution_count": null,
      "metadata": {
        "id": "2L1tCyrFL3Cz"
      },
      "outputs": [],
      "source": [
        "global image"
      ]
    },
    {
      "cell_type": "code",
      "execution_count": null,
      "metadata": {
        "id": "6HySC0xDL3Jf"
      },
      "outputs": [],
      "source": [
        "def preprocess_image(image, target_size):\n",
        "    if image.mode != \"RGB\":\n",
        "        image = image.convert(\"RGB\")\n",
        "    \n",
        "    image = image.resize(target_size)\n",
        "    image = img_to_array(image)\n",
        "    image = np.expand_dims(image, axis=0)\n",
        "    print(np.shape(image))\n",
        "    \n",
        "    return image"
      ]
    },
    {
      "cell_type": "code",
      "execution_count": null,
      "metadata": {
        "id": "RR8IZ48ZL3MG"
      },
      "outputs": [],
      "source": [
        "def get_model():\n",
        "    global model\n",
        "    global graph\n",
        "    vgg16_model = applications.vgg16.VGG16()\n",
        "    model = tf.keras.Sequential()\n",
        "\n",
        "\n",
        "    for i in vgg16_model.layers:\n",
        "        model.add(i)\n",
        "\n",
        "\n",
        "    for layer in model.layers:\n",
        "        layer.trainable = False\n",
        "\n",
        "\n",
        "    model.add(Dense(4, activation='softmax'))\n",
        "    model.make_predict_function('model_weights.h5')\n",
        "    \n",
        "    #model._make_predict_function()\n",
        "    graph = tf.compat.v1.get_default_graph()\n",
        "    print(\"Model loaded!\")"
      ]
    },
    {
      "cell_type": "code",
      "execution_count": null,
      "metadata": {
        "colab": {
          "base_uri": "https://localhost:8080/"
        },
        "id": "oGtjYaW9L3OM",
        "outputId": "8558fe33-22fc-4b41-dba3-0aa7445085c2"
      },
      "outputs": [
        {
          "output_type": "stream",
          "name": "stdout",
          "text": [
            " Loading Keras model...\n",
            "Downloading data from https://storage.googleapis.com/tensorflow/keras-applications/vgg16/vgg16_weights_tf_dim_ordering_tf_kernels.h5\n",
            "553467096/553467096 [==============================] - 7s 0us/step\n",
            "Model loaded!\n"
          ]
        }
      ],
      "source": [
        "print(\" Loading Keras model...\")\n",
        "get_model()"
      ]
    },
    {
      "cell_type": "code",
      "execution_count": null,
      "metadata": {
        "colab": {
          "base_uri": "https://localhost:8080/"
        },
        "id": "QQXB0CdiXBdn",
        "outputId": "54f8c569-54a0-4ad0-e789-297de668af7c"
      },
      "outputs": [
        {
          "name": "stdout",
          "output_type": "stream",
          "text": [
            "Found 200 files belonging to 4 classes.\n",
            "['apple', 'apricot', 'banana', 'carrot']\n"
          ]
        }
      ],
      "source": [
        "#train_path = '/content/drive/MyDrive/yapay_zeka/valid'\n",
        "#import pathlib\n",
        "#train_data_dir = pathlib.Path(train_path)\n",
        "#import tensorflow as tf\n",
        "#train_ds = tf.keras.utils.image_dataset_from_directory(train_path)\n",
        "#train_class_names = train_ds.class_names\n",
        "#print(train_class_names)\n",
        "#"
      ]
    },
    {
      "cell_type": "code",
      "execution_count": null,
      "metadata": {
        "id": "cz28eZJEzL_d"
      },
      "outputs": [],
      "source": [
        "import csv\n",
        "\n",
        "# opening the CSV file\n",
        "with open('csvornek.csv', mode ='r')as file:\n",
        "\n",
        "# reading the CSV file\n",
        "  csvFile = csv.reader(file)\n",
        "  for lines in csvFile:\n",
        "\t\t  fileList = lines"
      ]
    },
    {
      "cell_type": "code",
      "execution_count": null,
      "metadata": {
        "id": "m2JgszPyMLgM"
      },
      "outputs": [],
      "source": [
        "class NeYedim(Resource):\n",
        "      def get(self):\n",
        "        #name = request.args['name']\n",
        "        #processed_image = preprocess_image(image, target_size=(224, 224))\n",
        "        \n",
        "        data = {\n",
        "            'prediction': {\n",
        "            'get' : 'get işlemi',\n",
        "            'sonuc': fileList[id]\n",
        "            }\n",
        "        }\n",
        "\n",
        "        \n",
        "        print(data)\n",
        "        return {'data' : data}, 200\n",
        "      \n",
        "      #post işlemi\n",
        "      def post(self):\n",
        "        name = request.form['name']\n",
        "        encoded = request.form['image']\n",
        "        decoded = base64.b64decode(encoded)\n",
        "        decode = io.BytesIO(decoded)\n",
        "        image = Image.open(decode)\n",
        "        #processed_image = preprocess_image(image, target_size=(224, 224))\n",
        "\n",
        "\n",
        "        image.save(\"picture.jpg\")\n",
        "        image = Image.open(\"picture.jpg\")\n",
        "        \n",
        "        \n",
        "        #import tensorflow as tf\n",
        "        #image = Image.open(\"/content/drive/MyDrive/yapay_zeka/train/apple/3.jpg\") \n",
        "        #image.save(\"/content/drive/MyDrive/yapay_zeka/train/apple/3.jpg\")\n",
        "        #image = Image.open(\"/content/drive/MyDrive/yapay_zeka/train/apple/3.jpg\")   \n",
        "\n",
        "        processed_image = preprocess_image(image, target_size=(224, 224))\n",
        "\n",
        "        #graph = tf.compat.v1.get_default_graph()\n",
        "\n",
        "\n",
        "        with graph.as_default():\n",
        "            vgg16_model = applications.vgg16.VGG16()\n",
        "            model = tf.keras.Sequential()\n",
        "        \n",
        "            for i in vgg16_model.layers:\n",
        "                model.add(i)\n",
        "        \n",
        "            for layer in model.layers:\n",
        "                layer.trainable = False\n",
        "        \n",
        "            model.add(Dense(4, activation='softmax'))\n",
        "            #model.make_predict_function('/content/drive/MyDrive/model_weights.h5')  \n",
        "            model.load_weights('/content/drive/MyDrive/model_weights.h5')\n",
        "            prediction = model.predict(processed_image).tolist()\n",
        "        \n",
        "        #prediction = [[0,1,2,3]] #kodda bulunan hata düzeltildikten sonra bu alan yorum satırına alınacak ve üstte bulunan kod bloğu çalıştırılacak -- çalıştırıldı!!!\n",
        "        print(prediction)\n",
        "\n",
        "\n",
        "        #karşılaştırma sonucu elde edilen en yüksek doğruluk oranına sahip dosyanın indeksi bulunuyor.\n",
        "        prediction_max = max(prediction[0])\n",
        "        print(prediction_max)\n",
        "\n",
        "        id = -1\n",
        "        for i in range(4):\n",
        "         if(prediction[0][i]==prediction_max):\n",
        "           id=i\n",
        "        print(id)\n",
        "\n",
        "\n",
        "        data = {\n",
        "            'prediction': {\n",
        "            'name' :  name,\n",
        "            'post' : 'post işlemi',\n",
        "            'sonuc': fileList[id]\n",
        "            }\n",
        "        }\n",
        "\n",
        "        \n",
        "        print(data)\n",
        "        return {'data' : data}, 200"
      ]
    },
    {
      "cell_type": "code",
      "execution_count": null,
      "metadata": {
        "id": "tkAgG2egMLik"
      },
      "outputs": [],
      "source": [
        "# Add URL endpoints\n",
        "api.add_resource(NeYedim, '/neyedinanaliz')"
      ]
    },
    {
      "cell_type": "code",
      "execution_count": null,
      "metadata": {
        "colab": {
          "background_save": true,
          "base_uri": "https://localhost:8080/"
        },
        "id": "4K826z-hMLlN",
        "outputId": "5dc3a79d-91ed-4a27-9382-759b0a15cc44"
      },
      "outputs": [
        {
          "output_type": "stream",
          "name": "stdout",
          "text": [
            " * Serving Flask app \"__main__\" (lazy loading)\n",
            " * Environment: production\n",
            "\u001b[31m   WARNING: This is a development server. Do not use it in a production deployment.\u001b[0m\n",
            "\u001b[2m   Use a production WSGI server instead.\u001b[0m\n",
            " * Debug mode: off\n"
          ]
        },
        {
          "output_type": "stream",
          "name": "stderr",
          "text": [
            "INFO:werkzeug: * Running on http://127.0.0.1:5000/ (Press CTRL+C to quit)\n"
          ]
        },
        {
          "output_type": "stream",
          "name": "stdout",
          "text": [
            " * Running on http://b46d-35-225-136-56.ngrok.io\n",
            " * Traffic stats available on http://127.0.0.1:4040\n"
          ]
        },
        {
          "output_type": "stream",
          "name": "stderr",
          "text": [
            "INFO:werkzeug:127.0.0.1 - - [05/Jan/2023 21:49:58] \"\u001b[33mGET / HTTP/1.1\u001b[0m\" 404 -\n",
            "INFO:werkzeug:127.0.0.1 - - [05/Jan/2023 21:49:58] \"\u001b[33mGET /favicon.ico HTTP/1.1\u001b[0m\" 404 -\n",
            "ERROR:__main__:Exception on /neyedinanaliz [GET]\n",
            "Traceback (most recent call last):\n",
            "  File \"/usr/local/lib/python3.8/dist-packages/flask/app.py\", line 1950, in full_dispatch_request\n",
            "    rv = self.dispatch_request()\n",
            "  File \"/usr/local/lib/python3.8/dist-packages/flask/app.py\", line 1936, in dispatch_request\n",
            "    return self.view_functions[rule.endpoint](**req.view_args)\n",
            "  File \"/usr/local/lib/python3.8/dist-packages/flask_restful/__init__.py\", line 467, in wrapper\n",
            "    resp = resource(*args, **kwargs)\n",
            "  File \"/usr/local/lib/python3.8/dist-packages/flask/views.py\", line 89, in view\n",
            "    return self.dispatch_request(*args, **kwargs)\n",
            "  File \"/usr/local/lib/python3.8/dist-packages/flask_restful/__init__.py\", line 582, in dispatch_request\n",
            "    resp = meth(*args, **kwargs)\n",
            "  File \"<ipython-input-10-a7643b597754>\", line 9, in get\n",
            "    'sonuc': fileList[id]\n",
            "TypeError: list indices must be integers or slices, not builtin_function_or_method\n",
            "INFO:werkzeug:127.0.0.1 - - [05/Jan/2023 21:50:04] \"\u001b[35m\u001b[1mGET /neyedinanaliz HTTP/1.1\u001b[0m\" 500 -\n",
            "INFO:werkzeug:127.0.0.1 - - [05/Jan/2023 21:50:05] \"\u001b[33mGET /favicon.ico HTTP/1.1\u001b[0m\" 404 -\n"
          ]
        }
      ],
      "source": [
        "if __name__ == '__main__':\n",
        "#     app.run(host=\"0.0.0.0\", port=5000)\n",
        "    run_with_ngrok(app) #colab dışında çalıştırılırsa yorum satırına alınmalı\n",
        "    app.run()"
      ]
    }
  ],
  "metadata": {
    "colab": {
      "provenance": [],
      "authorship_tag": "ABX9TyP+/2xU3CQEfFaxNYa7Pdb5",
      "include_colab_link": true
    },
    "kernelspec": {
      "display_name": "Python 3",
      "name": "python3"
    },
    "language_info": {
      "name": "python"
    }
  },
  "nbformat": 4,
  "nbformat_minor": 0
}